{
 "cells": [
  {
   "cell_type": "markdown",
   "metadata": {},
   "source": [
    "## Defining a function"
   ]
  },
  {
   "cell_type": "code",
   "execution_count": 2,
   "metadata": {},
   "outputs": [
    {
     "name": "stdout",
     "output_type": "stream",
     "text": [
      "semua orang bingung\n",
      "tidak bingung kalau di surga\n"
     ]
    }
   ],
   "source": [
    "def printme(str):\n",
    "    print(str)\n",
    "    return\n",
    "printme('semua orang bingung')\n",
    "printme('tidak bingung kalau di surga')"
   ]
  },
  {
   "cell_type": "code",
   "execution_count": 11,
   "metadata": {},
   "outputs": [
    {
     "name": "stdout",
     "output_type": "stream",
     "text": [
      "variabel utama: [10, 15, 20, [3, 4, 5, 6]]\n",
      "variabel yang lain: [10, 15, 20, [3, 4, 5, 6]]\n"
     ]
    }
   ],
   "source": [
    "def changeme(mylist):\n",
    "    mylist.append([3,4,5,6])\n",
    "    print('variabel utama:', mylist)\n",
    "    return\n",
    "mylist=([10,15,20])\n",
    "changeme(mylist)\n",
    "print('variabel yang lain:', mylist)"
   ]
  },
  {
   "cell_type": "code",
   "execution_count": 15,
   "metadata": {},
   "outputs": [
    {
     "name": "stdout",
     "output_type": "stream",
     "text": [
      "variabel utama: [3, 4, 5, 6]\n",
      "variabel yang lain: [10, 15, 20]\n"
     ]
    }
   ],
   "source": [
    "def changeme (mylist):\n",
    "    mylist=([3,4,5,6])\n",
    "    print('variabel utama:', mylist)\n",
    "    return\n",
    "mylist=([10,15,20])\n",
    "changeme(mylist)\n",
    "print('variabel yang lain:', mylist)"
   ]
  },
  {
   "cell_type": "code",
   "execution_count": 18,
   "metadata": {},
   "outputs": [
    {
     "name": "stdout",
     "output_type": "stream",
     "text": [
      "hooman\n"
     ]
    }
   ],
   "source": [
    "def printme(str):\n",
    "    print(str)\n",
    "    return\n",
    "printme(str=\"hooman\")"
   ]
  },
  {
   "cell_type": "code",
   "execution_count": 19,
   "metadata": {},
   "outputs": [
    {
     "name": "stdout",
     "output_type": "stream",
     "text": [
      "name: sugeng\n",
      "age 20\n"
     ]
    }
   ],
   "source": [
    "def printinfo(name,age):\n",
    "    print(\"name:\", name)\n",
    "    print(\"age\", age)\n",
    "    return\n",
    "printinfo(age=20, name=\"sugeng\")"
   ]
  },
  {
   "cell_type": "code",
   "execution_count": 20,
   "metadata": {},
   "outputs": [
    {
     "name": "stdout",
     "output_type": "stream",
     "text": [
      "name: titi\n",
      "age 25\n",
      "name: lily\n",
      "age 30\n"
     ]
    }
   ],
   "source": [
    "def printinfo(name, age=30):\n",
    "    print(\"name:\", name)\n",
    "    print(\"age\", age)\n",
    "    return\n",
    "printinfo(age=25, name=\"titi\")\n",
    "printinfo(name=\"lily\")"
   ]
  },
  {
   "cell_type": "code",
   "execution_count": 25,
   "metadata": {},
   "outputs": [
    {
     "name": "stdout",
     "output_type": "stream",
     "text": [
      "hasil pertama : 9\n",
      "hasil kedua : 45\n"
     ]
    }
   ],
   "source": [
    "def sum(yoi1, yoi2):\n",
    "    total = yoi1 + yoi2\n",
    "    total2 = total*yoi2\n",
    "    print('hasil pertama :', total)\n",
    "    return total2\n",
    "total = sum(4,5)\n",
    "print('hasil kedua :', total)"
   ]
  },
  {
   "cell_type": "code",
   "execution_count": 2,
   "metadata": {},
   "outputs": [
    {
     "ename": "NameError",
     "evalue": "name 's' is not defined",
     "output_type": "error",
     "traceback": [
      "\u001b[1;31m---------------------------------------------------------------------------\u001b[0m",
      "\u001b[1;31mNameError\u001b[0m                                 Traceback (most recent call last)",
      "Cell \u001b[1;32mIn[2], line 7\u001b[0m\n\u001b[0;32m      5\u001b[0m     \u001b[39mreturn\u001b[39;00m ns\n\u001b[0;32m      6\u001b[0m kalimat \u001b[39m=\u001b[39m \u001b[39minput\u001b[39m(\u001b[39m'\u001b[39m\u001b[39mmasukkan kalimat:\u001b[39m\u001b[39m'\u001b[39m)\n\u001b[1;32m----> 7\u001b[0m \u001b[39mprint\u001b[39m(balikkata(kalimat))\n",
      "Cell \u001b[1;32mIn[2], line 2\u001b[0m, in \u001b[0;36mbalikkata\u001b[1;34m(kalimat)\u001b[0m\n\u001b[0;32m      1\u001b[0m \u001b[39mdef\u001b[39;00m \u001b[39mbalikkata\u001b[39m (kalimat):\n\u001b[1;32m----> 2\u001b[0m     a \u001b[39m=\u001b[39m s\u001b[39m.\u001b[39msplit(\u001b[39m\"\u001b[39m\u001b[39m\"\u001b[39m)\n\u001b[0;32m      3\u001b[0m     na \u001b[39m=\u001b[39m [i[::\u001b[39m-\u001b[39m\u001b[39m1\u001b[39m] \u001b[39mfor\u001b[39;00m i \u001b[39min\u001b[39;00m a]\n\u001b[0;32m      4\u001b[0m     ns \u001b[39m=\u001b[39m \u001b[39m\"\u001b[39m\u001b[39m \u001b[39m\u001b[39m\"\u001b[39m\u001b[39m.\u001b[39mjoin(x)\n",
      "\u001b[1;31mNameError\u001b[0m: name 's' is not defined"
     ]
    }
   ],
   "source": [
    "def balikkata (kalimat):\n",
    "    a = s.split(\"\")\n",
    "\n",
    "    \n",
    "    na = [i[::-1] for i in a]\n",
    "    ns = \" \".join(x)\n",
    "    return ns\n",
    "kalimat = input('masukkan kalimat:')\n",
    "print(balikkata(kalimat))"
   ]
  },
  {
   "cell_type": "code",
   "execution_count": 3,
   "metadata": {},
   "outputs": [
    {
     "name": "stdout",
     "output_type": "stream",
     "text": [
      "ayas aisunam\n"
     ]
    }
   ],
   "source": [
    "def terbalikhuruf(s): \n",
    "   \n",
    "   w = s.split(\" \")        # Splitting the Sentence into list of words.\n",
    "                           # reversing each word and creating a new list of words\n",
    "                           # apply List Comprehension Technique\n",
    "   nw = [i[::-1] for i in w]\n",
    "                           # Join the new list of words to for a new Sentence\n",
    "   ns = \" \".join(nw)\n",
    "   return ns\n",
    "# Driver's Code \n",
    "s = input(\"ENTER A SENTENCE PROPERLY ::\")\n",
    "print(terbalikhuruf(s))"
   ]
  }
 ],
 "metadata": {
  "kernelspec": {
   "display_name": "base",
   "language": "python",
   "name": "python3"
  },
  "language_info": {
   "codemirror_mode": {
    "name": "ipython",
    "version": 3
   },
   "file_extension": ".py",
   "mimetype": "text/x-python",
   "name": "python",
   "nbconvert_exporter": "python",
   "pygments_lexer": "ipython3",
   "version": "3.11.4"
  },
  "orig_nbformat": 4
 },
 "nbformat": 4,
 "nbformat_minor": 2
}
