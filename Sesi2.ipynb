{
 "cells": [
  {
   "cell_type": "markdown",
   "id": "54ea596a",
   "metadata": {},
   "source": [
    "# IF statement"
   ]
  },
  {
   "cell_type": "code",
   "execution_count": 1,
   "id": "7f6a391d",
   "metadata": {},
   "outputs": [
    {
     "name": "stdout",
     "output_type": "stream",
     "text": [
      "yes\n",
      "yes\n",
      "yes\n"
     ]
    }
   ],
   "source": [
    "x = 0\n",
    "y = 5\n",
    "if x < y:\n",
    "    print ('yes')\n",
    "if y < x:\n",
    "    print('yes')\n",
    "if x:\n",
    "    print('yes')\n",
    "if y:\n",
    "    print('yes')\n",
    "if 'aul' in 'grault':\n",
    "    print('yes')\n",
    "if 'quux' in ['foo', 'bar', 'baz']:\n",
    "      print('yes')  "
   ]
  },
  {
   "cell_type": "code",
   "execution_count": 2,
   "id": "1343de41",
   "metadata": {},
   "outputs": [
    {
     "name": "stdout",
     "output_type": "stream",
     "text": [
      "Outer condition is true\n",
      "between inner condition\n",
      "Inner condition 2\n",
      "End of outer condition\n",
      "After outer condition\n"
     ]
    }
   ],
   "source": [
    "if 'foo' in ['foo', 'bar', 'baz']:\n",
    "    print('Outer condition is true')\n",
    "\n",
    "if 10 > 20:\n",
    "    print('Inner condition 1')\n",
    "\n",
    "print('between inner condition')\n",
    "\n",
    "if 10 < 20:\n",
    "    print('Inner condition 2')\n",
    "\n",
    "print('End of outer condition')\n",
    "print('After outer condition')"
   ]
  },
  {
   "cell_type": "markdown",
   "id": "7ac5f99c",
   "metadata": {},
   "source": [
    "# The Else and Elif clauses"
   ]
  },
  {
   "cell_type": "code",
   "execution_count": 3,
   "id": "bc77bc54",
   "metadata": {},
   "outputs": [
    {
     "name": "stdout",
     "output_type": "stream",
     "text": [
      "uang tidak cukup\n"
     ]
    }
   ],
   "source": [
    "hargabuku = 20000\n",
    "hargamajalah = 5000\n",
    "uang = 2000\n",
    "\n",
    "if uang > hargabuku:\n",
    "    print(\"beli buku\")\n",
    "else:\n",
    "    print(\"uang tidak cukup\")"
   ]
  },
  {
   "cell_type": "code",
   "execution_count": 4,
   "id": "5ba0a152",
   "metadata": {},
   "outputs": [
    {
     "name": "stdout",
     "output_type": "stream",
     "text": [
      "beli pulpen\n"
     ]
    }
   ],
   "source": [
    "harganovel = 75000\n",
    "hargapulpen = 3000\n",
    "uang = 5000\n",
    "\n",
    "if uang > harganovel:\n",
    "    print(\"beli novel\")\n",
    "elif uang > hargapulpen:\n",
    "    print(\"beli pulpen\")\n",
    "else:\n",
    "    print(\"uang tidak cukup\")"
   ]
  },
  {
   "cell_type": "code",
   "execution_count": 5,
   "id": "c11eb36c",
   "metadata": {},
   "outputs": [
    {
     "name": "stdout",
     "output_type": "stream",
     "text": [
      "Hello Hacktiv8\n"
     ]
    }
   ],
   "source": [
    "name = 'Hacktiv8'\n",
    "if name =='Fred':\n",
    "    print('Hello Fred')\n",
    "elif name == 'Xander':\n",
    "    print('Hello Xander')\n",
    "elif name == 'Hacktiv8':\n",
    "    print('Hello Hacktiv8')\n",
    "elif name == 'Arnold':\n",
    "    print(\"i don't know who you are!\")"
   ]
  },
  {
   "cell_type": "markdown",
   "id": "6b84a908",
   "metadata": {},
   "source": [
    "# The Python for loop"
   ]
  },
  {
   "cell_type": "code",
   "execution_count": 6,
   "id": "52f23cad",
   "metadata": {},
   "outputs": [
    {
     "name": "stdout",
     "output_type": "stream",
     "text": [
      "meja\n",
      "kursi\n",
      "papan\n"
     ]
    }
   ],
   "source": [
    "x = ['meja', 'kursi', 'papan']\n",
    "for a in (x):\n",
    "    print(a)"
   ]
  },
  {
   "cell_type": "markdown",
   "id": "efcb8185",
   "metadata": {},
   "source": [
    "## The break and continue statement"
   ]
  },
  {
   "cell_type": "code",
   "execution_count": 8,
   "id": "a8228c90",
   "metadata": {},
   "outputs": [
    {
     "name": "stdout",
     "output_type": "stream",
     "text": [
      "foo\n"
     ]
    }
   ],
   "source": [
    "for i in ['foo', 'bar', 'baz', 'qux']:\n",
    "    if 'b' in i:\n",
    "        break\n",
    "    print(i)"
   ]
  },
  {
   "cell_type": "code",
   "execution_count": 9,
   "id": "e17e10ff",
   "metadata": {},
   "outputs": [
    {
     "name": "stdout",
     "output_type": "stream",
     "text": [
      "foo\n",
      "qux\n"
     ]
    }
   ],
   "source": [
    "for i in ['foo', 'bar', 'baz', 'qux']:\n",
    "    if 'b' in i:\n",
    "        continue\n",
    "    print(i)"
   ]
  }
 ],
 "metadata": {
  "kernelspec": {
   "display_name": "Python 3 (ipykernel)",
   "language": "python",
   "name": "python3"
  },
  "language_info": {
   "codemirror_mode": {
    "name": "ipython",
    "version": 3
   },
   "file_extension": ".py",
   "mimetype": "text/x-python",
   "name": "python",
   "nbconvert_exporter": "python",
   "pygments_lexer": "ipython3",
   "version": "3.11.4"
  }
 },
 "nbformat": 4,
 "nbformat_minor": 5
}
